{
  "cells": [
    {
      "cell_type": "markdown",
      "metadata": {
        "id": "view-in-github",
        "colab_type": "text"
      },
      "source": [
        "<a href=\"https://colab.research.google.com/github/Greebodash/LiliasWorld/blob/main/Beep.ipynb\" target=\"_parent\"><img src=\"https://colab.research.google.com/assets/colab-badge.svg\" alt=\"Open In Colab\"/></a>"
      ]
    },
    {
      "cell_type": "markdown",
      "id": "31aae659",
      "metadata": {
        "id": "31aae659"
      },
      "source": [
        "Hello Bestie!\n",
        "Welcome to the first ever soft skill sunday. I am here to support you on your journey to make your own personal assistant and through this journey we will discover some python tips and tricks!"
      ]
    },
    {
      "cell_type": "markdown",
      "id": "6e53ad34",
      "metadata": {
        "id": "6e53ad34"
      },
      "source": [
        "First of all, let me introduce myself. My name is Bestie Exploratory Expedetion of Python but you can call me Beep!"
      ]
    },
    {
      "cell_type": "markdown",
      "source": [
        "If you are running this in Google Collab then you should first try running my friend LiliasWorld which will be the example we will attempting to replicate.\n",
        "\n",
        "Now you might be asking what the hell even is this? This is a jupyter notebook, a type of file that merges code and text. So this here is a block of text."
      ],
      "metadata": {
        "id": "TlMhIUYevarr"
      },
      "id": "TlMhIUYevarr"
    },
    {
      "cell_type": "code",
      "execution_count": null,
      "id": "68c9cd28",
      "metadata": {
        "colab": {
          "base_uri": "https://localhost:8080/"
        },
        "id": "68c9cd28",
        "outputId": "cba6bb95-8476-4258-c34f-5d7d35f02cae"
      },
      "outputs": [
        {
          "output_type": "stream",
          "name": "stdout",
          "text": [
            "And this is a block of code\n"
          ]
        }
      ],
      "source": [
        "print('And this is a block of code')"
      ]
    },
    {
      "cell_type": "markdown",
      "source": [
        "So how do we make something out of nothing? Well we start somewhere, I assume you're familiar with print commands as seen above but for this program we're building what's known as an **interactive program.**\n",
        "\n",
        "Now, what that means is that we're building code that takes an *input* from our user and the way we do that is with the input() command!\n",
        "\n",
        "Let's try it out:"
      ],
      "metadata": {
        "id": "ZW-WRLTPv9HZ"
      },
      "id": "ZW-WRLTPv9HZ"
    },
    {
      "cell_type": "code",
      "source": [
        "query=input()\n",
        "print(query)"
      ],
      "metadata": {
        "colab": {
          "base_uri": "https://localhost:8080/"
        },
        "id": "KICMd_RLXGVG",
        "outputId": "177b4947-2650-4ca1-a118-c4bcec9a0f8c"
      },
      "id": "KICMd_RLXGVG",
      "execution_count": 1,
      "outputs": [
        {
          "output_type": "stream",
          "name": "stdout",
          "text": [
            "Test\n",
            "Test\n"
          ]
        }
      ]
    },
    {
      "cell_type": "markdown",
      "source": [
        "Here we used a variable called 'query' to hold the information we took from our input function and then printed it out again! This will serve as our building block for our function!\n",
        "\n",
        "With this we can basically build the whole code! Let's try it out."
      ],
      "metadata": {
        "id": "q_n2g2THXdUv"
      },
      "id": "q_n2g2THXdUv"
    },
    {
      "cell_type": "code",
      "source": [
        "query = input()\n",
        "\n",
        "if 'fuck' in query:\n",
        "  print ('That is not a very nice thing for you to say, I am only a few days old!')\n",
        "else:\n",
        "  print('Sorry I do not understand that')"
      ],
      "metadata": {
        "colab": {
          "base_uri": "https://localhost:8080/"
        },
        "id": "Ag9t2B_bYHAn",
        "outputId": "e8dd5756-4485-413b-b87d-6e60849ef082"
      },
      "id": "Ag9t2B_bYHAn",
      "execution_count": 3,
      "outputs": [
        {
          "output_type": "stream",
          "name": "stdout",
          "text": [
            "other\n",
            "Sorry I do not understand that\n"
          ]
        }
      ]
    },
    {
      "cell_type": "markdown",
      "source": [
        "Here we used our use of the input function with an 'if' statment. If statments act as basic logic units for code. Here saying that if the phrase 'fuck' is in the inputted phrase then it should print out a set phrase and if fuck is not in the phrase then it should print out a different message.\n",
        "\n",
        "Let's go even further beyond and add some extra spice!"
      ],
      "metadata": {
        "id": "n4S-3ojvYrbI"
      },
      "id": "n4S-3ojvYrbI"
    },
    {
      "cell_type": "code",
      "source": [
        "import datetime\n",
        "\n",
        "while (True):\n",
        "    query = input().lower()\n",
        "    if \"time\" in query:\n",
        "        time = str(datetime.datetime.now())\n",
        "        print(time)\n",
        "        continue\n",
        "\n",
        "    elif \"bye\" in query:\n",
        "        print(\"Bye. Love you, have a wonderful day!\")\n",
        "        exit()\n",
        "\n",
        "    elif \"who are you\" in query:\n",
        "        print(\"I am your AI-free personal assistant running on bestie power. Choo Choo!\")\n",
        "        continue\n",
        "\n",
        "    elif 'fuck' in query:\n",
        "        print (' that is not a very nice thing for you to say, I am only a few days old!')\n",
        "        continue\n",
        "\n",
        "    else:\n",
        "        print('Sorry, I do not understand what you are trying to say, you can ask for help using help!')"
      ],
      "metadata": {
        "id": "UMkHuIZoZQih"
      },
      "id": "UMkHuIZoZQih",
      "execution_count": null,
      "outputs": []
    },
    {
      "cell_type": "markdown",
      "source": [
        "So we introduced a couple of new concept here but they're all very simple:\n",
        "\n",
        "\n",
        "1.   I put everything in a while loop, what that does is just keeps the code running and asking for an input after every instruction. Except for when the exit() command is used (Here when I tell it 'bye')\n",
        "2.   I added a bunch more instructions using 'elif' which is short for 'else if' which is just another if.\n",
        "3.   Finally, I added a small function that tells me what the time is.\n",
        "\n",
        "The function that tells the time is part of a big library called datetime. In order to use that library I have to begin my code by telling python to go grab that library by using 'import'\n",
        "\n",
        "Once the library is imported, I can use it to tell me what the time is using a function called datetime.datetime.now()\n",
        "\n",
        "Let's play with some more libraries!"
      ],
      "metadata": {
        "id": "UTJ54NJfa7zQ"
      },
      "id": "UTJ54NJfa7zQ"
    },
    {
      "cell_type": "code",
      "source": [
        "import datetime\n",
        "import wikipedia\n",
        "import randfacts\n",
        "\n",
        "while (True):\n",
        "    query = input().lower()\n",
        "    if \"time\" in query:\n",
        "        time = str(datetime.datetime.now())\n",
        "        print(time)\n",
        "        continue\n",
        "    \n",
        "    elif \"random fact\" in query:\n",
        "        print(randfacts.get_fact())\n",
        "        continue\n",
        "\n",
        "    elif \"wikipedia\" in query:\n",
        "        print('What do you want to pedia on this lovely day?')\n",
        "        #Retaking a query from the user to figure out what to search\n",
        "        query = input()\n",
        "        print(\"Checking the wikipedia \")\n",
        "        #Using the wikipedia.summary function with the query we just took to search\n",
        "        result = wikipedia.summary(query, sentences=4,auto_suggest=False)\n",
        "        print(\"According to wikipedia\")\n",
        "        print(result)\n",
        "        continue\n",
        "\n",
        "    elif \"bye\" in query:\n",
        "        print(\"Bye. Love you, have a wonderful day!\")\n",
        "        exit()\n",
        "\n",
        "    elif \"who are you\" in query:\n",
        "        print(\"I am your AI-free personal assistant running on bestie power. Choo Choo!\")\n",
        "        continue\n",
        "\n",
        "    elif 'fuck' in query:\n",
        "        print (' that is not a very nice thing for you to say, I am only a few days old!')\n",
        "        continue\n",
        "    \n",
        "    elif \"help\" in query:\n",
        "        print(\"Here is a list of all the functions I do!\\n\"\n",
        "            \"google - opens google in your browser \\n\"\n",
        "            \"day - tells what day of the week it is \\n\"\n",
        "            \"time - tells what time it is \\n\"\n",
        "            \"wikipedia - searches wikipedia for info \\n\"\n",
        "            \"random fact - I think this one is self explanatory \\n\"\n",
        "            \"You can also talk to me using words like 'bye', 'who are you' and such\")\n",
        "        continue\n",
        "\n",
        "    else:\n",
        "        print('Sorry, I do not understand what you are trying to say, you can ask for help using help!')"
      ],
      "metadata": {
        "id": "Cu1fVr81bACa"
      },
      "id": "Cu1fVr81bACa",
      "execution_count": null,
      "outputs": []
    },
    {
      "cell_type": "markdown",
      "source": [
        "Everything else is in your hands, the final version of the code is a little more finalised and has more functions but it's all the same idea and armed with this power you can make it even bigger on your own! I believe in you Lilia and if you have any questions, the bestie is always here to help!"
      ],
      "metadata": {
        "id": "C688OiwLdod9"
      },
      "id": "C688OiwLdod9"
    }
  ],
  "metadata": {
    "kernelspec": {
      "display_name": "Python 3 (ipykernel)",
      "language": "python",
      "name": "python3"
    },
    "language_info": {
      "codemirror_mode": {
        "name": "ipython",
        "version": 3
      },
      "file_extension": ".py",
      "mimetype": "text/x-python",
      "name": "python",
      "nbconvert_exporter": "python",
      "pygments_lexer": "ipython3",
      "version": "3.10.6"
    },
    "colab": {
      "provenance": [],
      "include_colab_link": true
    }
  },
  "nbformat": 4,
  "nbformat_minor": 5
}